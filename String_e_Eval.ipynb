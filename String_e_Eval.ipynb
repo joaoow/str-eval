{
  "nbformat": 4,
  "nbformat_minor": 0,
  "metadata": {
    "colab": {
      "provenance": []
    },
    "kernelspec": {
      "name": "python3",
      "display_name": "Python 3"
    },
    "language_info": {
      "name": "python"
    }
  },
  "cells": [
    {
      "cell_type": "code",
      "execution_count": 4,
      "metadata": {
        "id": "5jE9RmxoCjsi",
        "colab": {
          "base_uri": "https://localhost:8080/"
        },
        "outputId": "444b1999-0706-4b9e-acea-745b111e96f9"
      },
      "outputs": [
        {
          "output_type": "stream",
          "name": "stdout",
          "text": [
            "Digite um numero inteiro: 15\n",
            "17\n"
          ]
        }
      ],
      "source": [
        "#eval serve para transformar um resultado de uma variavel em \"int\"\n",
        "numero =eval(input('Digite um numero inteiro: '))\n",
        "\n",
        "#variavel numero recebe ela mesma e acresenta mais dois numeros com base vc digitou\n",
        "numero = numero + 2\n",
        "\n",
        "#imprime a variavel numero e acresenta mais dois numeros\n",
        "print(numero)\n"
      ]
    }
  ]
}